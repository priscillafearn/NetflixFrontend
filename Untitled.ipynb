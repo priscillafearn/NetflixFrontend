{
 "cells": [
  {
   "cell_type": "code",
   "execution_count": 23,
   "id": "835eb9d9",
   "metadata": {},
   "outputs": [],
   "source": [
    "import pandas as pd\n",
    "import numpy as np\n",
    "url = \"/Users/davidguenoun/code/davidguenoun/wagon_final_project_netflix/Netflix/raw_data/merged_movies_by_index.csv\"\n",
    "df = pd.read_csv(url)"
   ]
  },
  {
   "cell_type": "code",
   "execution_count": 24,
   "id": "22700218",
   "metadata": {},
   "outputs": [
    {
     "data": {
      "text/plain": [
       "0                          Christian Slater, Scott Sampson\n",
       "1        Jan Decleir, Fedja van Huêt, Betty Schuurman, ...\n",
       "2        Kathe Burkhart, Kirby Dick, Bob Flanagan, Sher...\n",
       "3        Kai Shishido, Etsushi Takahashi, Sachiko Ayase...\n",
       "4        Bob Hope, Dorothy Lamour, Peter Lorre, Lon Cha...\n",
       "                               ...                        \n",
       "10381       Diane Keaton, Geraldine Page, Kristin Griffith\n",
       "10382    Geoffrey Rush, Tom Wilkinson, Steven O'Donnell...\n",
       "10383    David Keith, Stephanie Niznik, Ryan O'Neal, Br...\n",
       "10384    Neve Campbell, Malcolm McDowell, James Franco,...\n",
       "10385                James Spader, Janine Eser, John Lynch\n",
       "Name: Actors, Length: 10386, dtype: object"
      ]
     },
     "execution_count": 24,
     "metadata": {},
     "output_type": "execute_result"
    }
   ],
   "source": [
    "df[\"Actors\"]"
   ]
  },
  {
   "cell_type": "code",
   "execution_count": 29,
   "id": "fa9ba033",
   "metadata": {},
   "outputs": [
    {
     "data": {
      "text/plain": [
       "['Gary Oldman', ' Jeroen Krabbé', ' Isabella Rossellini']"
      ]
     },
     "execution_count": 29,
     "metadata": {},
     "output_type": "execute_result"
    }
   ],
   "source": [
    "type(df[\"Actors\"][0])\n",
    "(df[\"Actors\"][8]).split(\",\")"
   ]
  },
  {
   "cell_type": "code",
   "execution_count": 27,
   "id": "68a48ee8",
   "metadata": {},
   "outputs": [],
   "source": [
    "df[\"Actors\"]=df[\"Actors\"].dropna()"
   ]
  },
  {
   "cell_type": "code",
   "execution_count": 28,
   "id": "d6d85901",
   "metadata": {},
   "outputs": [
    {
     "ename": "AttributeError",
     "evalue": "'float' object has no attribute 'split'",
     "output_type": "error",
     "traceback": [
      "\u001b[0;31m---------------------------------------------------------------------------\u001b[0m",
      "\u001b[0;31mAttributeError\u001b[0m                            Traceback (most recent call last)",
      "\u001b[0;32m<ipython-input-28-3104ae7c3fd8>\u001b[0m in \u001b[0;36m<module>\u001b[0;34m\u001b[0m\n\u001b[1;32m      1\u001b[0m \u001b[0;32mfor\u001b[0m \u001b[0mi\u001b[0m \u001b[0;32min\u001b[0m \u001b[0mrange\u001b[0m\u001b[0;34m(\u001b[0m\u001b[0;36m0\u001b[0m\u001b[0;34m,\u001b[0m\u001b[0mlen\u001b[0m\u001b[0;34m(\u001b[0m\u001b[0mdf\u001b[0m\u001b[0;34m)\u001b[0m\u001b[0;34m)\u001b[0m\u001b[0;34m:\u001b[0m\u001b[0;34m\u001b[0m\u001b[0;34m\u001b[0m\u001b[0m\n\u001b[0;32m----> 2\u001b[0;31m     \u001b[0mdf\u001b[0m\u001b[0;34m[\u001b[0m\u001b[0;34m\"Actors\"\u001b[0m\u001b[0;34m]\u001b[0m\u001b[0;34m[\u001b[0m\u001b[0mi\u001b[0m\u001b[0;34m]\u001b[0m\u001b[0;34m.\u001b[0m\u001b[0msplit\u001b[0m\u001b[0;34m(\u001b[0m\u001b[0;34m\",\"\u001b[0m\u001b[0;34m)\u001b[0m\u001b[0;34m\u001b[0m\u001b[0;34m\u001b[0m\u001b[0m\n\u001b[0m",
      "\u001b[0;31mAttributeError\u001b[0m: 'float' object has no attribute 'split'"
     ]
    }
   ],
   "source": [
    "for i in range(0,len(df)):\n",
    "    df[\"Actors\"][i].split(\",\")"
   ]
  },
  {
   "cell_type": "code",
   "execution_count": null,
   "id": "8d383ed5",
   "metadata": {},
   "outputs": [],
   "source": []
  }
 ],
 "metadata": {
  "kernelspec": {
   "display_name": "Python 3",
   "language": "python",
   "name": "python3"
  },
  "language_info": {
   "codemirror_mode": {
    "name": "ipython",
    "version": 3
   },
   "file_extension": ".py",
   "mimetype": "text/x-python",
   "name": "python",
   "nbconvert_exporter": "python",
   "pygments_lexer": "ipython3",
   "version": "3.8.6"
  }
 },
 "nbformat": 4,
 "nbformat_minor": 5
}
